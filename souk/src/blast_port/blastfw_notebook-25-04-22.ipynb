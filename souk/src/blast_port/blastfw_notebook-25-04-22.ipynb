{
 "cells": [
  {
   "cell_type": "markdown",
   "metadata": {},
   "source": [
    "<center> <b> <font size=\"3\"> <font color=\"green\">rfborg </font> :\n",
    "    your detector technology will be assimilated— resistance is futile! </font> </b> </center> "
   ]
  },
  {
   "cell_type": "code",
   "execution_count": null,
   "metadata": {},
   "outputs": [],
   "source": [
    "# copy of JPL-test-1-functional-June11.ipynb"
   ]
  },
  {
   "cell_type": "code",
   "execution_count": 1,
   "metadata": {},
   "outputs": [
    {
     "data": {
      "application/javascript": [
       "\n",
       "try {\n",
       "require(['notebook/js/codecell'], function(codecell) {\n",
       "  codecell.CodeCell.options_default.highlight_modes[\n",
       "      'magic_text/x-csrc'] = {'reg':[/^%%pybind11/]};\n",
       "  Jupyter.notebook.events.one('kernel_ready.Kernel', function(){\n",
       "      Jupyter.notebook.get_cells().map(function(cell){\n",
       "          if (cell.cell_type == 'code'){ cell.auto_highlight(); } }) ;\n",
       "  });\n",
       "});\n",
       "} catch (e) {};\n"
      ]
     },
     "metadata": {},
     "output_type": "display_data"
    }
   ],
   "source": [
    "import os\n",
    "from pynq import Overlay\n",
    "from pynq import Xlnk\n",
    "import xrfclk\n",
    "import xrfdc\n",
    "import struct\n",
    "from time import sleep\n",
    "from matplotlib import pyplot as plt\n",
    "import numpy as np\n",
    "import ipywidgets as ipw\n",
    "from ipywidgets import interact, interactive, fixed, interact_manual\n",
    "from scipy import signal\n",
    "# import valon_synth9 as Valon"
   ]
  },
  {
   "cell_type": "code",
   "execution_count": 30,
   "metadata": {},
   "outputs": [],
   "source": [
    "# FIRMWARE UPLOAD\n",
    "firmware = Overlay(\"silver-blast_module_eth_v2p2_signed_ddc_sync.bit\",ignore_version=True)\n",
    "\n",
    "# INITIALIZING LMK04208 CLOCK\n",
    "clksrc = 409.6 # MHz\n",
    "xrfclk.set_all_ref_clks(clksrc)"
   ]
  },
  {
   "cell_type": "code",
   "execution_count": 31,
   "metadata": {},
   "outputs": [],
   "source": [
    "########################3\n",
    "# Configure udp ip and mac\n",
    "##########################\n",
    "dst_mac_reg = firmware.IP_MAC_gpio_hier.dst_mac # 48 bits, offset 0x00 bottom 32bits, 0x08 top 16 bits\n",
    "src_mac_reg = firmware.IP_MAC_gpio_hier.src_mac # 48 bits, offset 0x00 bottom 32bits, 0x08 top 16 bits\n",
    "ip_reg = firmware.IP_MAC_gpio_hier.ip # offset 0x00 src ip, offset 0x08 dst ip\n",
    "eth_delay_reg = firmware.eth_delay # programmable delay for eth byte shift\n",
    "data_in_mux = firmware.data_in_mux\n",
    "# setting ips\n",
    "src_ip_int32 = int(\"c0a80329\",16)\n",
    "dst_ip_int32 = int(\"c0a80328\",16)\n",
    "src_mac0_int32 = int(\"deadbeef\",16)\n",
    "src_mac1_int16 = int(\"feed\",16)\n",
    "dst_mac0_int32 = int(\"5d092bb0\",16) #  startech dongle 80:3f:5d:09:6b:1d\n",
    "dst_mac1_int16 = int(\"803f\",16) \n",
    "\n",
    "# write values\n",
    "ip_reg.write( 0x00, src_ip_int32) \n",
    "ip_reg.write( 0x08, dst_ip_int32)\n",
    "dst_mac_reg.write( 0x00, dst_mac0_int32)\n",
    "dst_mac_reg.write( 0x08, dst_mac1_int16)\n",
    "src_mac_reg.write( 0x00, src_mac0_int32)\n",
    "src_mac_reg.write( 0x08, src_mac1_int16)"
   ]
  },
  {
   "cell_type": "code",
   "execution_count": 4,
   "metadata": {},
   "outputs": [],
   "source": [
    "###############################\n",
    "# Ethernet Delay Lines  \n",
    "###############################\n",
    "eth_delay_reg.write(0x00, 20 + (4<<16))#44 + (4<<16)) # data output from eth buffer delay/ input to eth buffer delay <<16 delay\n",
    "eth_delay_reg.write(0x08, 3) # start pulse out delay\n",
    "###############################\n",
    "# Data MUX\n",
    "###############################\n",
    "data_in_mux.write( 0x00, 1) # coffee when 0, data when 1\n",
    "data_in_mux.write( 0x08, (509) + ((8189)<<16) ) # ethernet max write count and max read count\n",
    "###############################\n",
    "# DDC shift\n",
    "###############################\n",
    "dds_shift=firmware.gpio3.axi_gpio_0 # offset 0x00\n",
    "#dds_shift.write(0x00dds_shift.write(0x00,12) # 100 : for each addr in ddc bin list, 25 for bin list offs 50"
   ]
  },
  {
   "cell_type": "markdown",
   "metadata": {},
   "source": [
    "# Generating DDS/DAC Waveform"
   ]
  },
  {
   "cell_type": "code",
   "execution_count": 28,
   "metadata": {},
   "outputs": [],
   "source": [
    "def phase_shift(ts, phase):\n",
    "    y = ts*np.exp(1j*phase)\n",
    "    return ts.real + 1j*y.imag\n",
    "\n",
    "def norm_wave(ts, max_amp=2**15-1):\n",
    "    \"\"\"\n",
    "     Re-configure generated data values to fit LUT\n",
    "    \"\"\"\n",
    "    Imax = max(abs(ts.real))\n",
    "    Qmax = max(abs(ts.imag))\n",
    "    norm = max(abs(ts))\n",
    "    dacI = ((ts.real/norm)*max_amp).astype(\"int16\")\n",
    "    dacQ = ((ts.imag/norm)*max_amp).astype(\"int16\")\n",
    "    return dacI, dacQ\n",
    "\n",
    "def surfsUpDude(freq_list, vna = False, verbose=False):\n",
    "    \"\"\"\n",
    "    surfsUpDude Takes a list of specified frequencies and generates....stuff and things, then \n",
    "    uploads to the bram. Then we'll have totally ripped waves bruh, schralping the gnar.\n",
    "    \n",
    "    params\n",
    "        freq_list: np.array\n",
    "            list of tones to generate [Hz]\n",
    "        verbose: bool\n",
    "            enable / disable printing (and or) plotting of data\n",
    "    \"\"\"\n",
    "    #####################################################\n",
    "    # HARDCODED LUT PARAMS\n",
    "    #####################################################\n",
    "    addr_size=18   # address bit width\n",
    "    channels= 2    # data points per memory address for DAC\n",
    "    fs = 1024e6    # sampling rate of D/A, FPGA fabric = fs/2\n",
    "    C=2            # decimation factor\n",
    "    data_p = channels*2**(addr_size) # length of timestream or length of LUT+1\n",
    "    \n",
    "    #####################################################\n",
    "    #  SET FREQ for LUT\n",
    "    #####################################################\n",
    "    if vna:\n",
    "      N = 1000 # number of tones to make\n",
    "      #freqs = -1*C*np.linspace(-250.0e6, 250.0e6,N) # equally spaced tones\n",
    "      freqs_up = 1*C*np.linspace(-251e6,-1e6, N/2)\n",
    "      freqs_lw = 1*C*np.linspace(2.25e6,252.25e6,N/2)\n",
    "      freqs = np.append(freqs_up,freqs_lw)\n",
    "    else:\n",
    "      freqs = C*freq_list # equally spaced tones\n",
    "    phases = np.random.uniform(-np.pi,np.pi,len(freqs))\n",
    "    phases[0] = np.pi/2.\n",
    "\n",
    "\n",
    "    ######################################################\n",
    "    # DAC Params\n",
    "    ######################################################\n",
    "    A = 2**15-1 # 16 bit D/A, expecting signed values.\n",
    "    freq_res = fs/data_p # Hz\n",
    "    fftbin_bw = 500e3 # Hz for effective bandwidth of 512MHz/1024 point fft on adc\n",
    "    print(freq_res)\n",
    "    \n",
    "    ######################################################\n",
    "    # GENERATE LUT WAVEFORM FROM FREQ LIST\n",
    "    ######################################################\n",
    "    freqs = np.round(freqs/(freq_res))*freq_res\n",
    "    print(\"{} Frequencies Generated:\".format(len(freqs)))\n",
    "    print(freqs/C*1e-6)\n",
    "    delta = np.zeros(data_p,dtype=\"complex\") # empty array of deltas\n",
    "    fft_bin_nums=np.zeros(len(freqs),dtype=int) # array of all dac bin index\n",
    "    for i in range(len(freqs)):\n",
    "        bin_num = np.round((freqs[i]/freq_res)).astype('int')\n",
    "        fft_bin_nums[i]=(np.round((freqs[i]/fftbin_bw/C)).astype('int'))*C\n",
    "        print(fft_bin_nums[i])\n",
    "        delta[bin_num] = np.exp(1j*phases[i]) \n",
    "    ts = np.fft.ifft(delta)\n",
    "\n",
    "    # GENERATE DDC WAVEFORM FROM BEAT FREQS\n",
    "    # f_beat = (freqs/C)%(fftbin_bw)\n",
    "    f_fft_bin = fft_bin_nums*fftbin_bw\n",
    "    f_beat = (freqs/C - f_fft_bin/C)\n",
    "    \n",
    "    if verbose:\n",
    "        print(\"\\nBeat Frequencies:\")\n",
    "        print(f_beat)\n",
    "        print(freqs/C)\n",
    "\n",
    "    ###########\n",
    "    # new DDC\n",
    "    ###########\n",
    "    wave_ddc = np.zeros( int(data_p), dtype=\"complex\") # empty array of deltas\n",
    "    delta_ddc = np.zeros( shape=(len(freqs),2**9), dtype=\"complex\") # empty array of deltas\n",
    "    beat_ddc = np.zeros(shape=(len(freqs),2**9), dtype=\"complex\")\n",
    "    bin_num_ddc = np.round(f_beat*2/freq_res) # factor of 2 for half a bin width\n",
    "    # bin_num_ddc = np.round(f_beat/freq_res) # removed f_beat*2\n",
    "    \n",
    "    print(\"bin num ddc \"+str(bin_num_ddc))\n",
    "\n",
    "    for i in range(len(freqs)): \n",
    "        delta_ddc[i,int(bin_num_ddc[i])] = np.exp(-1j*phases[i])\n",
    "        beat_ddc[i] = np.conj(np.fft.ifft(delta_ddc[i]))\n",
    "        \n",
    "    for i in range(1024):\n",
    "        if (i<len(freqs)):\n",
    "            wave_ddc[i::1024] = beat_ddc[i]\n",
    "        else:\n",
    "            #wave_ddc[i::1024] = (1+1j)/np.sqrt(2)/2**10\n",
    "            wave_ddc[i::1024] = 0.\n",
    "            #wave_ddc[i::1024] = beat_ddc[0] #(1+1j)/np.sqrt(2)/2**10 #sets ones for arrays\n",
    "\n",
    "#     plt.figure()\n",
    "#     plt.plot(beat_ddc[0,0:100].real)\n",
    "#     plt.plot(beat_ddc[0,0:100].imag)\n",
    "#     plt.show()\n",
    "    \n",
    "    dacI, dacQ = norm_wave(ts)\n",
    "    ddcI, ddcQ = norm_wave(wave_ddc, max_amp=2**13-1)\n",
    "    ##############################\n",
    "    # DDC Values\n",
    "    ##############################\n",
    "    ddcQ_val = ((np.int32(ddcQ[1::2]) << 16) + ddcQ[0::2]).astype(\"int32\")\n",
    "    ddcI_val = ((np.int32(ddcI[1::2]) << 16) + ddcI[0::2]).astype(\"int32\")\n",
    "\n",
    "    dacQ_val = ((np.int32(dacQ[1::2]) << 16) + dacQ[0::2]).astype(\"int32\")\n",
    "    dacI_val = ((np.int32(dacI[1::2]) << 16) + dacI[0::2]).astype(\"int32\")\n",
    "\n",
    "    LUT_I, LUT_Q = np.zeros(data_p).astype(\"int32\"), np.zeros(data_p).astype(\"int32\")\n",
    "    DDS_I, DDS_Q = np.zeros(data_p).astype(\"int32\"), np.zeros(data_p).astype(\"int32\")\n",
    "\n",
    "    LUT_I = dacI_val\n",
    "    LUT_Q = dacQ_val\n",
    "    DDS_I = ddcI_val\n",
    "    DDS_Q = ddcQ_val\n",
    "    return LUT_I, LUT_Q, DDS_I, DDS_Q, freqs, ddcI, ddcQ\n",
    "\n",
    "#BRAM driver code for bram v0.42\n",
    "# (to be loaded into python file)\n",
    "def load_dds(bramN,Z): # new stacked python functionality with new config\n",
    "    wea    = 2**29\n",
    "    memlen = 2**18\n",
    "    load   = 2**29\n",
    "    sclr   = 2**31\n",
    "    nchnl  = 1\n",
    "    \n",
    "    bramN.write(4,wea)\n",
    "    k=int(0)\n",
    "    for i in range(0,memlen):\n",
    "        bramN.write(0, k<<(32-18)) \n",
    "        bramN.write(4,wea)\n",
    "        for j in range(nchnl): \n",
    "            bramN.write(4,j<<19) \n",
    "            bramN.write(12,int(Z[nchnl*i+j])) \n",
    "        \n",
    "        bramN.write(4,wea | 1<<28 )\n",
    "        k+=1\n",
    "    bramN.write(4,0)\n",
    "    bramN.write(0,0)\n",
    "    return\n",
    "\n",
    "def load_dac(bramN,Z): # new stacked python functionality with new config\n",
    "    wea    = 2**29\n",
    "    memlen = 2**18\n",
    "    load   = 2**29\n",
    "    sclr   = 2**31\n",
    "    nchnl  = 1\n",
    "\n",
    "    bramN.write(4,wea)\n",
    "    k=int(0)\n",
    "    for i in range(0,memlen):\n",
    "        bramN.write(0, k<<(32-18)) \n",
    "        bramN.write(4,wea)\n",
    "        for j in range(nchnl): \n",
    "            bramN.write(4,j<<19) \n",
    "            bramN.write(12,int(Z[nchnl*i+j])) \n",
    "        \n",
    "        bramN.write(4,wea | 1<<28 )\n",
    "        k+=1\n",
    "    bramN.write(4,0)\n",
    "    bramN.write(0,0)\n",
    "    return\n",
    "\n",
    "\n",
    "def load_bin_list(freqs):\n",
    "    #bin_list=-1*(np.round(freqs* 512/512e6))\n",
    "    bin_list = np.int64( np.round(freqs/1e6) )\n",
    "    print(\"bin_list:\"+str(bin_list))\n",
    "    fft_shift_and_load_bins = firmware.gpio1.axi_gpio_0 # 0x00 fft shift, 0x08 load bins\n",
    "    accum_and_bin_idx = firmware.gpio2.axi_gpio_0 # 0x00 bins, 0x08 0-23 accum len, 24 accum rst, 25 sync in\n",
    "\n",
    "    # initialization \n",
    "    sync_in = 2**26\n",
    "    fft_shift=0\n",
    "    if len(freqs)>400:\n",
    "        fft_shift = 1*((2**5)-1) #(2**7)-1 # CHANGED FOR NEW GPIO\n",
    "    else:\n",
    "        fft_shift = 1*((2**9)-1) #(2**7)-1 # CHANGED FOR NEW GPIO\n",
    "    accum_rst = 2**24  # (active low)\n",
    "    accum_length = (2**18)-1\n",
    "    \n",
    "    fft_shift_and_load_bins.write(0x00, fft_shift)\n",
    "    accum_and_bin_idx.write(0x08, accum_length)\n",
    "    ################################################\n",
    "    # Load DDC bins\n",
    "    ################################################\n",
    "    #offs=60\n",
    "    offs=100\n",
    "    \n",
    "    \n",
    "    for addr in range(1024):\n",
    "         if ((offs-1)<addr<((offs)+len(bin_list))):\n",
    "             print(\"addr = {}, bin# = {}\".format(addr, bin_list[addr-offs]))\n",
    "             accum_and_bin_idx.write(0x00, abs(int(bin_list[addr-offs]))) #110 # write bin for address single address\n",
    "             fft_shift_and_load_bins.write(0x08,(addr<<1)+1) # enable we\n",
    "             fft_shift_and_load_bins.write(0x08,0) # disable we\n",
    "         else:\n",
    "             accum_and_bin_idx.write(0x00,0)#0) #110 # write bin for address single address\n",
    "             fft_shift_and_load_bins.write(0x08,(addr<<1)+1) # enable we\n",
    "             fft_shift_and_load_bins.write(0x08,0) # disable wea\n",
    "    \n",
    "    ##################################################33\n",
    "    # sync low\n",
    "    #accum_and_bin_idx.write( 0x08, accum_length) # sync low\n",
    "    return\n",
    "\n",
    "def load_waveform_into_mem(LI, LQ, DI, DQ):\n",
    "    #######################################################\n",
    "    # Load configured LUT values into FPGA memory\n",
    "    #######################################################\n",
    "    DAC_bram_I = firmware.DAC_I.BRAM_I_LUT\n",
    "    DAC_bram_Q = firmware.DAC_Q.BRAM_Q_LUT\n",
    "    DDS_bram_I = firmware.DDC_I.BRAM_I_LUT\n",
    "    DDS_bram_Q = firmware.DDC_Q.BRAM_Q_LUT\n",
    "\n",
    "    load_dac(DAC_bram_I,LI)\n",
    "    load_dac(DAC_bram_Q,LQ)\n",
    "    load_dds(DDS_bram_I, DI)\n",
    "    load_dds(DDS_bram_Q,DQ)\n",
    "    ########################\n",
    "    # Arming DDC Waveform\n",
    "    ########################\n",
    "    # initialization \n",
    "    sync_in = 2**26\n",
    "    accum_rst = 2**24  # (active low)\n",
    "    accum_length = (2**18)-1\n",
    "    accum_and_bin_idx = firmware.gpio2.axi_gpio_0 # 0x00 bins, 0x08 0-23 accum len, 24 accum rst, 25 sync in\n",
    "    # sync high \n",
    "    accum_and_bin_idx.write(0x08,accum_length+sync_in) \n",
    "    # accum reset low then high\n",
    "    accum_and_bin_idx.write(0x08,accum_length+accum_rst+sync_in)\n",
    "    dds_shift.write(0x08,1) # holdings from counting, gpio3\n",
    "    DDS_bram_Q.write(4,(0<<31)) # BRAM ip\n",
    "    DDS_bram_I.write(4,(0<<31))\n",
    "    DDS_bram_Q.write(4,(1<<31))\n",
    "    DDS_bram_I.write(4,(1<<31)) \n",
    "    DDS_bram_I.write(4,(0<<31))\n",
    "    DDS_bram_Q.write(4,(0<<31))\n",
    "    dds_shift.write(0x08,0) # clearing gpio3 redge DDS latch\n",
    "    dds_shift.write(0x00,50) ################# DDS SHIFT #######################\n",
    "    return 0"
   ]
  },
  {
   "cell_type": "code",
   "execution_count": null,
   "metadata": {},
   "outputs": [],
   "source": []
  },
  {
   "cell_type": "code",
   "execution_count": 29,
   "metadata": {},
   "outputs": [
    {
     "name": "stdout",
     "output_type": "stream",
     "text": [
      "1953.125\n",
      "47 Frequencies Generated:\n",
      "[ 1.          2.06933594  3.13769531  4.20703125  5.27539062  6.34472656\n",
      "  7.41308594  8.48242188  9.55175781 10.62011719 11.68945312 12.7578125\n",
      " 13.82714844 14.89550781 15.96484375 17.03417969 18.10253906 19.171875\n",
      " 20.24023438 21.30957031 22.37792969 23.44726562 24.515625   25.58496094\n",
      " 26.65429688 27.72265625 28.79199219 29.86035156 30.9296875  31.99804688\n",
      " 33.06738281 34.13671875 35.20507812 36.27441406 37.34277344 38.41210938\n",
      " 39.48046875 40.54980469 41.61914062 42.6875     43.75683594 44.82519531\n",
      " 45.89453125 46.96289062 48.03222656 49.1015625  50.16992188]\n",
      "4\n",
      "8\n",
      "12\n",
      "16\n",
      "22\n",
      "26\n",
      "30\n",
      "34\n",
      "38\n",
      "42\n",
      "46\n",
      "52\n",
      "56\n",
      "60\n",
      "64\n",
      "68\n",
      "72\n",
      "76\n",
      "80\n",
      "86\n",
      "90\n",
      "94\n",
      "98\n",
      "102\n",
      "106\n",
      "110\n",
      "116\n",
      "120\n",
      "124\n",
      "128\n",
      "132\n",
      "136\n",
      "140\n",
      "146\n",
      "150\n",
      "154\n",
      "158\n",
      "162\n",
      "166\n",
      "170\n",
      "176\n",
      "180\n",
      "184\n",
      "188\n",
      "192\n",
      "196\n",
      "200\n",
      "\n",
      "Beat Frequencies:\n",
      "[      0.       69335.9375  137695.3125  207031.25   -224609.375\n",
      " -155273.4375  -86914.0625  -17578.125    51757.8125  120117.1875\n",
      "  189453.125  -242187.5    -172851.5625 -104492.1875  -35156.25\n",
      "   34179.6875  102539.0625  171875.      240234.375  -190429.6875\n",
      " -122070.3125  -52734.375    15625.       84960.9375  154296.875\n",
      "  222656.25   -208007.8125 -139648.4375  -70312.5      -1953.125\n",
      "   67382.8125  136718.75    205078.125  -225585.9375 -157226.5625\n",
      "  -87890.625   -19531.25     49804.6875  119140.625   187500.\n",
      " -243164.0625 -174804.6875 -105468.75    -37109.375    32226.5625\n",
      "  101562.5     169921.875 ]\n",
      "[ 1000000.      2069335.9375  3137695.3125  4207031.25    5275390.625\n",
      "  6344726.5625  7413085.9375  8482421.875   9551757.8125 10620117.1875\n",
      " 11689453.125  12757812.5    13827148.4375 14895507.8125 15964843.75\n",
      " 17034179.6875 18102539.0625 19171875.     20240234.375  21309570.3125\n",
      " 22377929.6875 23447265.625  24515625.     25584960.9375 26654296.875\n",
      " 27722656.25   28791992.1875 29860351.5625 30929687.5    31998046.875\n",
      " 33067382.8125 34136718.75   35205078.125  36274414.0625 37342773.4375\n",
      " 38412109.375  39480468.75   40549804.6875 41619140.625  42687500.\n",
      " 43756835.9375 44825195.3125 45894531.25   46962890.625  48032226.5625\n",
      " 49101562.5    50169921.875 ]\n",
      "bin num ddc [   0.   71.  141.  212. -230. -159.  -89.  -18.   53.  123.  194. -248.\n",
      " -177. -107.  -36.   35.  105.  176.  246. -195. -125.  -54.   16.   87.\n",
      "  158.  228. -213. -143.  -72.   -2.   69.  140.  210. -231. -161.  -90.\n",
      "  -20.   51.  122.  192. -249. -179. -108.  -38.   33.  104.  174.]\n",
      "bin_list:[  2   4   6   8  11  13  15  17  19  21  23  26  28  30  32  34  36  38\n",
      "  40  43  45  47  49  51  53  55  58  60  62  64  66  68  70  73  75  77\n",
      "  79  81  83  85  88  90  92  94  96  98 100]\n",
      "addr = 100, bin# = 2\n",
      "addr = 101, bin# = 4\n",
      "addr = 102, bin# = 6\n",
      "addr = 103, bin# = 8\n",
      "addr = 104, bin# = 11\n",
      "addr = 105, bin# = 13\n",
      "addr = 106, bin# = 15\n",
      "addr = 107, bin# = 17\n",
      "addr = 108, bin# = 19\n",
      "addr = 109, bin# = 21\n",
      "addr = 110, bin# = 23\n",
      "addr = 111, bin# = 26\n",
      "addr = 112, bin# = 28\n",
      "addr = 113, bin# = 30\n",
      "addr = 114, bin# = 32\n",
      "addr = 115, bin# = 34\n",
      "addr = 116, bin# = 36\n",
      "addr = 117, bin# = 38\n",
      "addr = 118, bin# = 40\n",
      "addr = 119, bin# = 43\n",
      "addr = 120, bin# = 45\n",
      "addr = 121, bin# = 47\n",
      "addr = 122, bin# = 49\n",
      "addr = 123, bin# = 51\n",
      "addr = 124, bin# = 53\n",
      "addr = 125, bin# = 55\n",
      "addr = 126, bin# = 58\n",
      "addr = 127, bin# = 60\n",
      "addr = 128, bin# = 62\n",
      "addr = 129, bin# = 64\n",
      "addr = 130, bin# = 66\n",
      "addr = 131, bin# = 68\n",
      "addr = 132, bin# = 70\n",
      "addr = 133, bin# = 73\n",
      "addr = 134, bin# = 75\n",
      "addr = 135, bin# = 77\n",
      "addr = 136, bin# = 79\n",
      "addr = 137, bin# = 81\n",
      "addr = 138, bin# = 83\n",
      "addr = 139, bin# = 85\n",
      "addr = 140, bin# = 88\n",
      "addr = 141, bin# = 90\n",
      "addr = 142, bin# = 92\n",
      "addr = 143, bin# = 94\n",
      "addr = 144, bin# = 96\n",
      "addr = 145, bin# = 98\n",
      "addr = 146, bin# = 100\n"
     ]
    },
    {
     "data": {
      "text/plain": [
       "0"
      ]
     },
     "execution_count": 29,
     "metadata": {},
     "output_type": "execute_result"
    }
   ],
   "source": [
    "LUT_I, LUT_Q, DDS_I, DDS_Q, freqs, ddcI, ddcQ = surfsUpDude(np.linspace(1,50.17,47)*1e6, vna=False, verbose=True)\n",
    "load_bin_list(freqs)\n",
    "load_waveform_into_mem(LUT_I, LUT_Q, DDS_I, DDS_Q)"
   ]
  },
  {
   "cell_type": "code",
   "execution_count": 43,
   "metadata": {},
   "outputs": [
    {
     "data": {
      "image/png": "[encoded data removed]",
      "text/plain": [
       "<matplotlib.figure.Figure at 0x7f6a3895f8>"
      ]
     },
     "metadata": {},
     "output_type": "display_data"
    }
   ],
   "source": [
    "plt.figure()\n",
    "plt.plot(ddcI[0])\n",
    "plt.plot(ddcQ[0])\n",
    "#plt.plot(beat_ddc.imag)\n",
    "plt.show()"
   ]
  },
  {
   "cell_type": "markdown",
   "metadata": {},
   "source": [
    "# ADC DATA"
   ]
  },
  {
   "cell_type": "code",
   "execution_count": 8,
   "metadata": {},
   "outputs": [],
   "source": [
    "bram_ADC_I = firmware.ADC_I.BRAM_SNAP_0 \n",
    "bram_ADC_Q = firmware.ADC_Q.BRAM_SNAP_0\n",
    "\n",
    "def get_snap_data(snap):\n",
    "  snap.write(0x04,0)       #\n",
    "  snap.write(0x04,2**31)   # toggling sync clear\n",
    "  snap.write(0x04,2**29)   # \n",
    "  d = np.zeros(2**11)    # bram data\n",
    "    \n",
    "  for i in range(2**11):\n",
    "    snap.write(0x00,i<<(32-11)) # write address space to read\n",
    "    for j in range(1):\n",
    "      snap.write(0x04,j<<19)\n",
    "      data = snap.read(0x08)\n",
    "      d[i*1+j]= data\n",
    "      #print(str(i*8+j))\n",
    "  snap_data = np.array(d).astype(\"int32\")\n",
    "  snap_data_0 = ((snap_data >> 16).astype(\"int16\"))#.astype('float') # decoding concatenated values\n",
    "  snap_data_1 = ((snap_data & (2**(16)-1)).astype(\"int16\"))#.astype('float') \n",
    "  d2 = np.zeros(2*2**11)# bram data\n",
    "  d2[0::2]=snap_data_1\n",
    "  d2[1::2]=snap_data_0\n",
    "  return d2"
   ]
  },
  {
   "cell_type": "code",
   "execution_count": 23,
   "metadata": {},
   "outputs": [
    {
     "name": "stdout",
     "output_type": "stream",
     "text": [
      "8852.0\n"
     ]
    },
    {
     "data": {
      "image/png": "[encoded data removed]",
      "text/plain": [
       "<matplotlib.figure.Figure at 0x7f7d991438>"
      ]
     },
     "metadata": {},
     "output_type": "display_data"
    }
   ],
   "source": [
    "Q3=get_snap_data(bram_ADC_Q) # Q must run first, I is dependent on Q triggering!!!\n",
    "I3=get_snap_data(bram_ADC_I)\n",
    "\n",
    "plt.figure(figsize=(13,7))\n",
    "c = slice(0,200)\n",
    "\n",
    "plt.subplot(221)\n",
    "plt.plot(I3[c],\"-+\",label=\"I\")\n",
    "plt.plot(Q3[c],\"-+\",label=\"Q\")\n",
    "print(np.max(I3[c]))\n",
    "plt.ylabel(\"ADU\")\n",
    "plt.legend()\n",
    "\n",
    "plt.subplot(222)\n",
    "plt.plot(np.arctan2(Q3[c],I3[c]),color=\"violet\",label=r'$\\phi$')\n",
    "plt.ylabel(\"Phase\")\n",
    "plt.legend()\n",
    "\n",
    "plt.subplot(2,2,(3,4))\n",
    "spec=np.fft.fft(I3+1j*Q3)\n",
    "spec_freqs = np.fft.fftfreq(len(I3),1/512e6)\n",
    "spec=abs(spec) \n",
    "plt.semilogy(spec_freqs,spec,\"-+\",label=\"mag\")\n",
    "plt.ylabel(\"ADU (magnitude)\")\n",
    "plt.legend()\n",
    "plt.show()"
   ]
  },
  {
   "cell_type": "code",
   "execution_count": null,
   "metadata": {},
   "outputs": [],
   "source": [
    "np.max(spec)"
   ]
  },
  {
   "cell_type": "code",
   "execution_count": null,
   "metadata": {},
   "outputs": [],
   "source": [
    "np.sort((1,4,2))\n",
    "lmag = np.max(spec[401:])\n",
    "umag = spec[400]\n",
    "old_diff = umag-lmag\n",
    "print(2.*np.arctan(lmag/umag) )\n",
    "print(2.*np.arctan(umag/lmag) )\n",
    "print(old_diff)\n",
    "print(umag-lmag)"
   ]
  },
  {
   "cell_type": "code",
   "execution_count": null,
   "metadata": {},
   "outputs": [],
   "source": [
    "plt.figure()\n",
    "spec=np.fft.fft(I3[0:1024]+1j*Q3[0:1024])\n",
    "spec_freqs = np.fft.fftfreq(len(I3[0:1024]),1/512e6)\n",
    "spec=abs(spec)\n",
    "plt.semilogy(spec_freqs,spec,\"-+\",label=\"mag\")\n",
    "plt.ylabel(\"ADU\")\n",
    "plt.legend()\n",
    "plt.show()"
   ]
  },
  {
   "cell_type": "markdown",
   "metadata": {},
   "source": [
    "## Polyphase Filterbank Snap"
   ]
  },
  {
   "cell_type": "code",
   "execution_count": 10,
   "metadata": {},
   "outputs": [],
   "source": [
    "pfbIQ=firmware.PFB_SNAP_SYNC.BRAM_SNAPIII_v1_0_0\n",
    "# make sure to toggle sync (gpio) first\n",
    "def get_pfb_data(snap):\n",
    "  snap.write(0x04,0)       #\n",
    "  snap.write(0x04,2**31)   # toggling sync clear\n",
    "  snap.write(0x04,2**29)       # \n",
    "\n",
    "  d = np.zeros(4*2**11)# bram data \n",
    "    \n",
    "  for i in range(2**11):\n",
    "    snap.write(0x00,i<<(32-11)) # write address space to read\n",
    "    for j in range(4):\n",
    "      snap.write(0x04,j<<19)\n",
    "      data = snap.read(0x08)\n",
    "      d[i*4+j]= data\n",
    "\n",
    "  snap_data = np.array(d).astype(\"uint32\")\n",
    "\n",
    "  snap_data=snap_data<<14\n",
    "  return snap_data"
   ]
  },
  {
   "cell_type": "code",
   "execution_count": 24,
   "metadata": {},
   "outputs": [
    {
     "data": {
      "image/png": "[encoded data removed]",
      "text/plain": [
       "<matplotlib.figure.Figure at 0x7f7d506fd0>"
      ]
     },
     "metadata": {},
     "output_type": "display_data"
    },
    {
     "name": "stdout",
     "output_type": "stream",
     "text": [
      "67.446274915669\n",
      "4293.284174149203\n"
     ]
    },
    {
     "data": {
      "image/png": "[encoded data removed]",
      "text/plain": [
       "<matplotlib.figure.Figure at 0x7f7d7fea20>"
      ]
     },
     "metadata": {},
     "output_type": "display_data"
    }
   ],
   "source": [
    "IQpfb_dat = get_pfb_data(pfbIQ).astype(\"int32\")\n",
    "\n",
    "Ipfb_f = IQpfb_dat[0::2].astype(\"float\")/2**14\n",
    "Qpfb_f = IQpfb_dat[1::2].astype(\"float\")/2**14\n",
    "\n",
    "SPECpfb = Ipfb_f + 1j*Qpfb_f\n",
    "mag = abs(SPECpfb)\n",
    "\n",
    "plt.figure(figsize=(8,5))\n",
    "#plt.title(r\"$f_s=2048MHZ, N_{bins}=512$\"+\"(7 tones, external hardware loopback)\")\n",
    "plt.xlabel(\"n\"); plt.ylabel(\"Linear Arb. Digital\")\n",
    "#plt.plot(mag)\n",
    "plt.plot(Ipfb_f,\"-+\",label='PFB I')\n",
    "plt.plot(Qpfb_f,\"-+\",label='PFB Q')\n",
    "\n",
    "#plt.xlim(0,1024)\n",
    "#plt.plot(Qpfb_f,\"-+\",label='Q')\n",
    "plt.legend()\n",
    "#plt.savefig(\"pfb_snap_single_tone.png\",dpi=300)\n",
    "plt.show()\n",
    "print(mag[0])\n",
    "\n",
    "\n",
    "plt.figure()\n",
    "#plt.plot(abs(Ipfb_f[0:1024]))\n",
    "plt.plot(mag[40:60])\n",
    "print(mag[50])\n",
    "plt.grid()\n",
    "#plt.plot(mag[2048:3072])"
   ]
  },
  {
   "cell_type": "code",
   "execution_count": 179,
   "metadata": {},
   "outputs": [
    {
     "data": {
      "text/plain": [
       "3.1622776601683795"
      ]
     },
     "execution_count": 179,
     "metadata": {},
     "output_type": "execute_result"
    }
   ],
   "source": [
    "mag[500]"
   ]
  },
  {
   "cell_type": "markdown",
   "metadata": {},
   "source": [
    "# Digital Down Conversion"
   ]
  },
  {
   "cell_type": "code",
   "execution_count": 12,
   "metadata": {},
   "outputs": [],
   "source": [
    "def get_ddc_data(snap):\n",
    "  snap.write(0x04,0)       #\n",
    "  snap.write(0x04,2**31)   # toggling sync clear\n",
    "  snap.write(0x04,2**29)       # \n",
    "\n",
    "  d = np.zeros(4*2**11)# bram data \n",
    "    \n",
    "  for i in range(2**11):\n",
    "    snap.write(0x00,i<<(32-11)) # write address space to read\n",
    "    for j in range(4):\n",
    "      snap.write(0x04,j<<19)\n",
    "      data = snap.read(0x08)\n",
    "      d[i*4+j]= data\n",
    "\n",
    "  snap_data = np.array(d).astype(\"uint32\")\n",
    "\n",
    "  #snap_data=snap_data<<13\n",
    "  return snap_data<<13"
   ]
  },
  {
   "cell_type": "code",
   "execution_count": 13,
   "metadata": {},
   "outputs": [],
   "source": [
    "ddc_snap = firmware.DDC_SNAP_SYNC.BRAM_SNAPIII_v1_0_0"
   ]
  },
  {
   "cell_type": "code",
   "execution_count": 27,
   "metadata": {},
   "outputs": [
    {
     "data": {
      "image/png": "[encoded data removed]",
      "text/plain": [
       "<matplotlib.figure.Figure at 0x7f7d853828>"
      ]
     },
     "metadata": {},
     "output_type": "display_data"
    }
   ],
   "source": [
    "\n",
    "ddc_IQ_dat = get_ddc_data(ddc_snap).astype(\"int32\")\n",
    "\n",
    "#Iddc_f = ddc_IQ_dat[0::2][0:1024].astype(\"float\")\n",
    "#Qddc_f = ddc_IQ_dat[1::2][0:1024].astype(\"float\")\n",
    "Iddc_f = ddc_IQ_dat[0::2].astype(\"float\")/2**13\n",
    "Qddc_f = ddc_IQ_dat[1::2].astype(\"float\")/2**13\n",
    "\n",
    "# roll array by 21 to line up with fft bins\n",
    "#Iddc_f = np.roll(Iddc_f,-21)\n",
    "#Qddc_f = np.roll(Qddc_f,-21)\n",
    "\n",
    "plt.figure(figsize=(8,5))\n",
    "plt.plot(Iddc_f[100:150],\"-+\",label='I')\n",
    "plt.plot(Qddc_f[100:150],\"-+\",label='Q')\n",
    "#plt.xlim(200,800)\n",
    "plt.legend()\n",
    "plt.show()\n",
    "\n",
    "# plt.figure()\n",
    "# #plt.plot(abs(Iddc_f[0:1024]+1j*Qddc_f[0:1024]))\n",
    "# plt.plot(abs(Iddc_f+1j*Qddc_f))\n",
    "# #plt.xlim(210,230)\n",
    "# plt.show()"
   ]
  },
  {
   "cell_type": "code",
   "execution_count": 58,
   "metadata": {},
   "outputs": [
    {
     "data": {
      "text/plain": [
       "array([0., 0., 0., ..., 0., 0., 0.])"
      ]
     },
     "execution_count": 58,
     "metadata": {},
     "output_type": "execute_result"
    }
   ],
   "source": [
    "Iddc_f"
   ]
  },
  {
   "cell_type": "markdown",
   "metadata": {},
   "source": [
    "## Vector Accumulate and Downsample"
   ]
  },
  {
   "cell_type": "code",
   "execution_count": 20,
   "metadata": {},
   "outputs": [],
   "source": [
    "def get_accum_data(snap,slp=.003):\n",
    "  snap.write(0x04,0)       #\n",
    "  snap.write(0x04,(2**29) + (2**31))   # toggling sync clear\n",
    "  snap.write(0x04,2**29)       # \n",
    "  sleep(slp)\n",
    "\n",
    "  d = np.zeros(4*2**11)# bram data \n",
    "    \n",
    "  for i in range(2**11):\n",
    "    snap.write(0x00,i<<(32-11)) # write address space to read\n",
    "    for j in range(4):\n",
    "      snap.write(0x04,j<<19)\n",
    "      data = snap.read(0x08)\n",
    "      d[i*4+j]= data\n",
    "  snap_data = np.array(d)#.astype(\"int32\")\n",
    "  return snap_data"
   ]
  },
  {
   "cell_type": "code",
   "execution_count": 21,
   "metadata": {},
   "outputs": [],
   "source": [
    "accum_snap = firmware.ACCUM_SNAP_SYNC.BRAM_SNAPIII_v1_0_0"
   ]
  },
  {
   "cell_type": "code",
   "execution_count": 188,
   "metadata": {},
   "outputs": [
    {
     "data": {
      "image/png": "[encoded data removed]",
      "text/plain": [
       "<matplotlib.figure.Figure at 0x7f63abc1d0>"
      ]
     },
     "metadata": {},
     "output_type": "display_data"
    },
    {
     "data": {
      "image/png": "[encoded data removed]",
      "text/plain": [
       "<matplotlib.figure.Figure at 0x7f6b7c0e48>"
      ]
     },
     "metadata": {},
     "output_type": "display_data"
    }
   ],
   "source": [
    "accum_IQ_dat = get_accum_data(accum_snap).astype(\"int32\")\n",
    "Iacc_f = accum_IQ_dat[0::2]#.astype(\"float\")\n",
    "Qacc_f = accum_IQ_dat[1::2]#.astype(\"float\")\n",
    "Ia, Qa = np.array(Iacc_f).astype(float), np.array(Qacc_f).astype(float)\n",
    "\n",
    "plt.figure(figsize=(8,5))\n",
    "plt.plot(Ia[:],label='I')\n",
    "plt.plot(Qa[:],label='Q')\n",
    "plt.legend()\n",
    "#plt.xlim(0,1024)\n",
    "plt.show()\n",
    "\n",
    "plt.figure()\n",
    "IQMAG=np.sqrt(Ia**2+Qa**2)\n",
    "plt.plot(IQMAG[0:10])\n",
    "#plt.xlim(175,225)\n",
    "plt.show()"
   ]
  },
  {
   "cell_type": "code",
   "execution_count": null,
   "metadata": {},
   "outputs": [],
   "source": [
    "Is=[]\n",
    "Qs=[]\n",
    "xs=[]\n",
    "for _ in range(150):\n",
    "    x=get_accum_data(accum_snap).astype(\"int32\")\n",
    "    I=x[::2]\n",
    "    Q=x[1::2]\n",
    "    #print(x[150:155])\n",
    "    Is.append(I)\n",
    "    Qs.append(Q)\n",
    "    xs.append(x)"
   ]
  },
  {
   "cell_type": "code",
   "execution_count": null,
   "metadata": {},
   "outputs": [],
   "source": [
    "plt.plot([I[60] for I in Is],'x'); \n",
    "plt.plot([Q[60] for Q in Qs],'x'); \n",
    "#plt.show()\n",
    "plt.plot([I[61] for I in Is],'x'); \n",
    "plt.plot([Q[61] for Q in Qs],'x'); \n",
    "#plt.show()\n",
    "plt.plot([I[59] for I in Is],'x'); \n",
    "plt.plot([Q[59] for Q in Qs],'x'); \n",
    "plt.show()"
   ]
  },
  {
   "cell_type": "code",
   "execution_count": null,
   "metadata": {},
   "outputs": [],
   "source": [
    "accum_IQ_dat[0:10]"
   ]
  },
  {
   "cell_type": "code",
   "execution_count": null,
   "metadata": {
    "scrolled": true
   },
   "outputs": [],
   "source": [
    "# mag_shift = np.zeros(1024)\n",
    "l=2\n",
    "for j in range(10):\n",
    "    print(\"run {}\".format(j))\n",
    "    print(\"=\"*25)\n",
    "    shiftmax=0\n",
    "    for i in range(0, 512):\n",
    "        dds_shift.write(0x00,i)\n",
    "        sleep(0.75)\n",
    "        #if i%50 == 0:\n",
    "        #  print(i)\n",
    "        accum_IQ_dat = get_accum_data(accum_snap).astype(\"int32\")\n",
    "        Iacc_f = accum_IQ_dat[0::2][1024*l:1024*(l+1)].astype(\"float\")\n",
    "        Qacc_f = accum_IQ_dat[1::2][1024*l:1024*(l+1)].astype(\"float\")\n",
    "        MAG =  np.max(np.sqrt(Iacc_f**2+Qacc_f**2))\n",
    "        #print(MAG)\n",
    "        if MAG > shiftmax:\n",
    "            shiftmax=MAG\n",
    "            print(\"shift: {} maxshift: {}\".format(i, shiftmax))"
   ]
  },
  {
   "cell_type": "code",
   "execution_count": null,
   "metadata": {},
   "outputs": [],
   "source": [
    " dds_shift.write(0x00,270) # 451 ,133  233"
   ]
  },
  {
   "cell_type": "code",
   "execution_count": null,
   "metadata": {},
   "outputs": [],
   "source": [
    "# shift: 0 maxshift: 85817.82468112321\n",
    "# shift: 77 maxshift: 89913.91105385195\n",
    "# shift: 101 maxshift: 94725.08662967799\n",
    "# shift: 175 maxshift: 97788.40938475275\n",
    "# shift: 207 maxshift: 106220.30252734173\n",
    "# shift: 246 maxshift: 112771.61490818512\n",
    "# shift: 521 maxshift: 112940.4150913215\n",
    "# shift: 563 maxshift: 114827.0322049647\n",
    "# shift: 655 maxshift: 116114.17238649208"
   ]
  },
  {
   "cell_type": "code",
   "execution_count": null,
   "metadata": {},
   "outputs": [],
   "source": [
    "(400e6)/900"
   ]
  },
  {
   "cell_type": "code",
   "execution_count": null,
   "metadata": {},
   "outputs": [],
   "source": [
    "#114\n",
    "\n",
    "# 40-60\n",
    "# 210-260\n",
    "# 340 - 400"
   ]
  },
  {
   "cell_type": "code",
   "execution_count": null,
   "metadata": {},
   "outputs": [],
   "source": [
    "l=2\n",
    "shiftmax=0\n",
    "# kN=1\n",
    "for i in range(0,512):\n",
    "        dds_shift.write(0x00,i)\n",
    "        sleep(1)\n",
    "        if i%1 == 0:\n",
    "          print(i)\n",
    "#         accum_IQ_dat = get_accum_data(accum_snap).astype(\"int32\")\n",
    "#         Iacc_f = accum_IQ_dat[0::2][1024*l:1024*(l+1)].astype(\"float\")\n",
    "#         Qacc_f = accum_IQ_dat[1::2][1024*l:1024*(l+1)].astype(\"float\")\n",
    "#         MAG =  np.max(np.sqrt((Iacc_f**2+Qacc_f**2))\n",
    "#         #print(MAG)\n",
    "#         if MAG > shiftmax:\n",
    "#             shiftmax=MAG\n",
    "#             print(\"shift: {} maxshift: {}\".format(i, shiftmax))"
   ]
  },
  {
   "cell_type": "code",
   "execution_count": null,
   "metadata": {},
   "outputs": [],
   "source": [
    "dds_shift.write(0x00,12)\n",
    "# 25 addr offs 50\n",
    "# 100 for writing all addrs"
   ]
  },
  {
   "cell_type": "code",
   "execution_count": null,
   "metadata": {},
   "outputs": [],
   "source": [
    "10.*np.log10(1e8)"
   ]
  },
  {
   "cell_type": "code",
   "execution_count": null,
   "metadata": {},
   "outputs": [],
   "source": []
  }
 ],
 "metadata": {
  "interpreter": {
   "hash": "31f2aee4e71d21fbe5cf8b01ff0e069b9275f58929596ceb00d14d90e3e16cd6"
  },
  "kernelspec": {
   "display_name": "Python 3",
   "language": "python",
   "name": "python3"
  },
  "language_info": {
   "codemirror_mode": {
    "name": "ipython",
    "version": 3
   },
   "file_extension": ".py",
   "mimetype": "text/x-python",
   "name": "python",
   "nbconvert_exporter": "python",
   "pygments_lexer": "ipython3",
   "version": "3.6.9"
  }
 },
 "nbformat": 4,
 "nbformat_minor": 4
}
